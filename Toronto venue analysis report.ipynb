{
    "cells": [
        {
            "cell_type": "markdown",
            "metadata": {
                "collapsed": true
            },
            "source": "# 1.\tIntroduction\n\nNxtFut Group is New York based Multi-industry company, which is recognised for its quality, sustained growth and values to the New York community. NxtFut is doing various businesses including Restaurants, Donut Shops, Food delivery, travel and hospitality. They want to start their new branch in Toronto. They desperately want to make their first business in Toronto a huge success. This success will help them to create a strong brand image and they can build their other businesses easily in Toronto. Hence NxtFut wants to find what is the best business to start in Toronto and how the Toronto receive it.\n\n### Problem\nWe are carrying out our data science project to find the solution of below problems.\n  1. What is the best business to start in Toronto\n  2. How the community will receive it\n  3. what is the best location to start the branch office.\n  \n### Stakeholders\nThis data science project will not only help the NxtFut group, this project will help all the new entrepreneurs or start-ups who want to start a new business in Toronto and to understand the community of Toronto.\n"
        },
        {
            "cell_type": "markdown",
            "metadata": {},
            "source": "\n# 2.\tData Mining:\n\n### 2.1 Goals:\n\nAs part of this data science project we are going to collect and analyse data by establishing below data mining goals to solve the problem that we have.\n  1. Identify the most common places people gather\n  2. Identify the most popular business on New York missing in Toronto\n  3. Identify the best place to start the business around centre of city of Toronto\n  4. Compare New York and Toronto demographics data & identify will the Toronto accept the selected business\n\n### 2.2 Selecting Data:\nThis project is going to use the data collected from foursquare, demographics of Toronto and New York.\n\nFoursquare will be used to collect Borough, Neighbourhood, latitude-longitude of each neighbourhood, top 100 venues of each neighbourhood and their respective latitude-longitude , venue categories.\nWe will be using demographics data from 2016-2017 census of Toronto and New York to collect the details of Age and racial/origin distribution of the respective cities.\nWe will be using other necessary python libraries to calculate the top most common venues of each neighbourhood, distance of each neighbourhood from the city centre of Toronto.\n\n### 2.3 Data Processing and Transformation:\nIn this phase I had to overcome processing of few messy data to determine the appropriate format that can be easy for further analysis.\n1.\tWe had a lot of categories in demographics of cities. Those includes age, race, profession, income, education,  etc.,  I had taken only age and racial distribution for our analysis as the other data is not necessary for  our identifying the acceptability of start-up and it may deviate us from our goal.\n\n2.\tI  had grouped age and racial data to transform the large messy categories into abstract and effective data sets. Peoples from same age group or origin will possess almost same kind of expectations and living style that we want to analyse.   \n\n#### For example all the religious people in Asian  region will like to have spices in their every meal.   All the middle age people will like to save money for future rather than over spending it.  All young people will like to travel and explore various aspects of life.\n\n3.\tWe have to create one single table to contain all the neighbourhood, latitude-longitude details, various venue categories, most common places, distance between the venues and city centre.   Because this will be useful when we plot the geographical diagrams for all the venues and clustering those venues.\n\n \n\n"
        },
        {
            "cell_type": "markdown",
            "metadata": {},
            "source": "# Examples of Age Dataset"
        },
        {
            "cell_type": "code",
            "execution_count": null,
            "metadata": {},
            "outputs": [],
            "source": "Age\tTotal\tMale\tFemale\n2\t0 to 14 years\t398,135\t204,190\t193,945\n3\t0 to 4 years\t136,000\t69,895\t66,105\n4\t5 to 9 years\t135,025\t69,345\t65,680\n5\t10 to 14 years\t127,105\t64,940\t62,165"
        },
        {
            "cell_type": "code",
            "execution_count": null,
            "metadata": {},
            "outputs": [],
            "source": ""
        }
    ],
    "metadata": {
        "kernelspec": {
            "display_name": "Python 3.6",
            "language": "python",
            "name": "python3"
        },
        "language_info": {
            "codemirror_mode": {
                "name": "ipython",
                "version": 3
            },
            "file_extension": ".py",
            "mimetype": "text/x-python",
            "name": "python",
            "nbconvert_exporter": "python",
            "pygments_lexer": "ipython3",
            "version": "3.6.9"
        }
    },
    "nbformat": 4,
    "nbformat_minor": 1
}